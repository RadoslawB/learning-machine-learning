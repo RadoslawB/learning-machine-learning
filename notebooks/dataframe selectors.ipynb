{
 "cells": [
  {
   "cell_type": "code",
   "execution_count": 8,
   "metadata": {
    "ExecuteTime": {
     "end_time": "2020-11-30T22:45:32.505597Z",
     "start_time": "2020-11-30T22:45:32.502317Z"
    }
   },
   "outputs": [],
   "source": [
    "import pandas as pd "
   ]
  },
  {
   "cell_type": "code",
   "execution_count": 9,
   "metadata": {
    "ExecuteTime": {
     "end_time": "2020-11-30T22:45:33.325675Z",
     "start_time": "2020-11-30T22:45:33.321737Z"
    }
   },
   "outputs": [],
   "source": [
    "import seaborn as sns"
   ]
  },
  {
   "cell_type": "code",
   "execution_count": 10,
   "metadata": {
    "ExecuteTime": {
     "end_time": "2020-11-30T22:45:38.085572Z",
     "start_time": "2020-11-30T22:45:38.075822Z"
    }
   },
   "outputs": [],
   "source": [
    "import ssl\n",
    "ssl._create_default_https_context = ssl._create_unverified_context\n",
    "df_planets = sns.load_dataset('planets')"
   ]
  },
  {
   "cell_type": "code",
   "execution_count": 74,
   "metadata": {
    "ExecuteTime": {
     "end_time": "2020-11-30T23:11:42.004433Z",
     "start_time": "2020-11-30T23:11:41.993304Z"
    }
   },
   "outputs": [],
   "source": [
    "class Eq:\n",
    "    def __init__(self, operation: Operation, value):\n",
    "        self.operation = operation\n",
    "        self.value = value\n",
    "\n",
    "    def __call__(self, df):\n",
    "        return df[self.operation.col_name].eq(self.value)\n",
    "\n",
    "    \n",
    "class Lt:\n",
    "    def __init__(self, operation: Operation, value):\n",
    "        self.operation = operation\n",
    "        self.value = value\n",
    "\n",
    "    def __call__(self, df):\n",
    "        return df[self.operation.col_name].lt(self.value)\n",
    "\n",
    "class Operation:\n",
    "    col_name: str\n",
    "\n",
    "    def __init__(self, col_name: str):\n",
    "        self.col_name = col_name\n",
    "\n",
    "    def __call__(self, df):\n",
    "        return self.col_name\n",
    "\n",
    "    def eq(self, value):\n",
    "        return Eq(self, value)\n",
    "    \n",
    "    def lt(self, value):\n",
    "        return Lt(self, value)\n",
    "\n",
    "\n",
    "class Column:\n",
    "    col_name: str\n",
    "\n",
    "    def __new__(self, col_name):\n",
    "        return Operation(col_name)"
   ]
  },
  {
   "cell_type": "code",
   "execution_count": 72,
   "metadata": {
    "ExecuteTime": {
     "end_time": "2020-11-30T23:10:16.108323Z",
     "start_time": "2020-11-30T23:10:16.105048Z"
    }
   },
   "outputs": [],
   "source": [
    "# todo sort columns Columns.sort_by_alphabet"
   ]
  },
  {
   "cell_type": "code",
   "execution_count": 76,
   "metadata": {
    "ExecuteTime": {
     "end_time": "2020-11-30T23:12:49.153229Z",
     "start_time": "2020-11-30T23:12:49.139237Z"
    }
   },
   "outputs": [
    {
     "ename": "TypeError",
     "evalue": "unsupported operand type(s) for &: 'Eq' and 'Lt'",
     "output_type": "error",
     "traceback": [
      "\u001b[0;31m---------------------------------------------------------------------------\u001b[0m",
      "\u001b[0;31mTypeError\u001b[0m                                 Traceback (most recent call last)",
      "\u001b[0;32m<ipython-input-76-b2bc955f8e34>\u001b[0m in \u001b[0;36m<module>\u001b[0;34m\u001b[0m\n\u001b[1;32m      1\u001b[0m \u001b[0;31m# todo: zamodeluj &\u001b[0m\u001b[0;34m\u001b[0m\u001b[0;34m\u001b[0m\u001b[0;34m\u001b[0m\u001b[0m\n\u001b[0;32m----> 2\u001b[0;31m \u001b[0mdf_planets\u001b[0m\u001b[0;34m.\u001b[0m\u001b[0mloc\u001b[0m\u001b[0;34m[\u001b[0m\u001b[0mColumn\u001b[0m\u001b[0;34m(\u001b[0m\u001b[0;34m'year'\u001b[0m\u001b[0;34m)\u001b[0m\u001b[0;34m.\u001b[0m\u001b[0meq\u001b[0m\u001b[0;34m(\u001b[0m\u001b[0;36m2006\u001b[0m\u001b[0;34m)\u001b[0m \u001b[0;34m&\u001b[0m \u001b[0mColumn\u001b[0m\u001b[0;34m(\u001b[0m\u001b[0;34m'distance'\u001b[0m\u001b[0;34m)\u001b[0m\u001b[0;34m.\u001b[0m\u001b[0mlt\u001b[0m\u001b[0;34m(\u001b[0m\u001b[0;36m50\u001b[0m\u001b[0;34m)\u001b[0m\u001b[0;34m]\u001b[0m\u001b[0;34m\u001b[0m\u001b[0;34m\u001b[0m\u001b[0m\n\u001b[0m",
      "\u001b[0;31mTypeError\u001b[0m: unsupported operand type(s) for &: 'Eq' and 'Lt'"
     ]
    }
   ],
   "source": [
    "# todo: zamodeluj &\n",
    "df_planets.loc[Column('year').eq(2006) & Column('distance').lt(50)]"
   ]
  },
  {
   "cell_type": "code",
   "execution_count": null,
   "metadata": {},
   "outputs": [],
   "source": []
  }
 ],
 "metadata": {
  "hide_input": false,
  "kernelspec": {
   "display_name": "Python 3",
   "language": "python",
   "name": "python3"
  },
  "language_info": {
   "codemirror_mode": {
    "name": "ipython",
    "version": 3
   },
   "file_extension": ".py",
   "mimetype": "text/x-python",
   "name": "python",
   "nbconvert_exporter": "python",
   "pygments_lexer": "ipython3",
   "version": "3.8.2"
  },
  "toc": {
   "base_numbering": 1,
   "nav_menu": {},
   "number_sections": true,
   "sideBar": true,
   "skip_h1_title": false,
   "title_cell": "Table of Contents",
   "title_sidebar": "Contents",
   "toc_cell": false,
   "toc_position": {},
   "toc_section_display": true,
   "toc_window_display": false
  }
 },
 "nbformat": 4,
 "nbformat_minor": 4
}
